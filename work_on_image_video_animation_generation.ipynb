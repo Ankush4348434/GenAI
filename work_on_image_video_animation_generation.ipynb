{
  "cells": [
    {
      "cell_type": "markdown",
      "metadata": {
        "id": "view-in-github",
        "colab_type": "text"
      },
      "source": [
        "<a href=\"https://colab.research.google.com/github/Ankush4348434/GenAI/blob/main/work_on_image_video_animation_generation.ipynb\" target=\"_parent\"><img src=\"https://colab.research.google.com/assets/colab-badge.svg\" alt=\"Open In Colab\"/></a>"
      ]
    },
    {
      "cell_type": "markdown",
      "source": [
        "# **GENERATIVE AI FOR IMAGE/GIF GENERATION**\n",
        "\n",
        "\n",
        "\n",
        "\n",
        "\n",
        "\n"
      ],
      "metadata": {
        "id": "M49lstKso4R4"
      }
    },
    {
      "cell_type": "markdown",
      "source": [
        "#  Project Scope :\n",
        "The goal of the project is to use creative AI to make a tool for making images and GIFs. Users can use advanced algorithms to make high-quality visual content on their own thanks to interaction with Google Colab and the Replicate AI API key. The job includes making an easy-to-use interface so users can enter their tastes and make their own pictures and GIFs. One of the most important parts is teaching the AI model on different sets of data to improve the variety and quality of the output. The project also wants to improve processing speed so that generation times are short. This will make it a useful tool for artistic work, digital marketing, and making video content.\n"
      ],
      "metadata": {
        "id": "ssJFs-pD6jnp"
      }
    },
    {
      "cell_type": "markdown",
      "source": [
        "# GROUP MEMBERS\n",
        "* Name- Akash Verma\n",
        "\n",
        "  Id - 4356269\n",
        "\n",
        "* Name -Ankush .\n",
        "\n",
        " Id- 4348434\n",
        "\n"
      ],
      "metadata": {
        "id": "-ipdHktp9yIQ"
      }
    },
    {
      "cell_type": "markdown",
      "source": [
        "# **Detailed Project Description Cell**\n",
        "\n",
        "\n",
        "\n"
      ],
      "metadata": {
        "id": "sMu2PBUfEMb5"
      }
    },
    {
      "cell_type": "markdown",
      "source": [
        "# Objectives:\n",
        "\n",
        "1. Create an intuitive interface that makes it easy to generate GIFs and photos, making it simple for users to enter their preferences and personalize their creations.\n",
        "\n",
        "2. Work in tandem with the Replicate AI API to provide top-notch visual content by tapping into its robust capabilities.\n",
        "\n",
        "3. Train generative AI models with a broad variety of styles, topics, and content kinds on various datasets to make the produced output more varied and rich.\n",
        "\n",
        "4. Introduce cutting-edge algorithms that challenge users to think outside the box, opening up new avenues for creative expression via the exploration of style transfer, conditional creation, and semantic manipulation.\n",
        "\n",
        "5. Make processing faster so it's more efficient and responsive, so iterating on ideas and products takes less time and less resources.\n",
        "\n",
        "6. Make sure the final product is of good quality, with eye-catching graphics and GIFs that draw in viewers.\n",
        "\n",
        "7. Iterate on the design and implementation depending on user input to better the overall user experience. Conducted rigorous user testing to gain feedback on the interface, functionality, and output quality.\n",
        "\n",
        "\n",
        "\n",
        "\n",
        "\n",
        "\n",
        "\n",
        "\n",
        "\n",
        "\n",
        "\n",
        "\n",
        "\n"
      ],
      "metadata": {
        "id": "LIMZbAotNgUT"
      }
    },
    {
      "cell_type": "markdown",
      "source": [
        "# Outcomes:\n",
        "1. A simple, flexible design that makes the user experience better.\n",
        "2. Successful merging of the Replicate AI API, which gives you access to powerful AI tools for creating new things.\n",
        "3. The use of different datasets to train creative AI models.\n",
        "4. The use of complex programs to generate artistic work.\n",
        "5. Increasing the speed of the processor to make it more efficient and productive.\n",
        "6. High-quality product that looks better and is more useful than what the user expected.\n",
        "7. Input from users and testing to make small changes that improve the user experience, usefulness, and output quality.\n",
        "\n",
        "\n",
        "\n",
        "\n"
      ],
      "metadata": {
        "id": "ouFrlqNB6ax4"
      }
    },
    {
      "cell_type": "markdown",
      "source": [
        "# Modification /New specification Cell\n",
        "Replicate AI's API key feature is built into the project, which lets users use advanced creative algorithms to make images and GIFs right inside the platform. The platform uses hints to tell the AI how to make pictures and GIFs, so users can choose the style, mood, and content. It has a lot of different export types to meet the needs of different artists. There is a lot of information about the results that shows how the AI comes up with ideas, what styles it uses, and how it might change things. Replicate AI's advanced features are also used in this project to learn on different datasets and make high-quality graphic material. This combination improves speed and product quality, letting users use cutting-edge AI technology in their creative projects.\n",
        "\n",
        "\n",
        "## Impact:\n",
        "1. Offers advanced AI methods and easy-to-use tools for making content.\n",
        "2. Encourages creativity and expression in a wide range of groups.\n",
        "3. Simplifies the process of making material, which boosts production and helps meet goals.\n",
        "4. Makes pictures and GIFs that can be changed for a wide range of businesses.\n",
        "5. Supports multiple languages and offers mobility choices to make sure everyone can use it.\n",
        "6. Helps AI technology move forward by using Replicate AI's features and adding API tokens.\n"
      ],
      "metadata": {
        "id": "1FQxZRo5-NXM"
      }
    },
    {
      "cell_type": "markdown",
      "source": [
        "# Criteria Specific Cell\n",
        "\n",
        "# **Relevance**:\n",
        "1. The rise of AI in the creative industries: uses AI to make high-quality pictures and GIFs.\n",
        "2. Demand for Visual Content: This type of content grabs people's attention and gets the point across clearly in the digital age.\n",
        "3. Focus on User Experience: This makes things easier to use and more accessible, which improves the user experience.\n",
        "4. Applications Across businesses: Makes pictures and GIFs that can be changed for use in many businesses.\n",
        "5. Uses advanced AI methods and works with systems like Replicate AI, which is a technological innovation.\n",
        "\n",
        "\n",
        "\n",
        "# **Applications**\n",
        "1. Digital marketing: Use the tool to make pictures and GIFs that look good for emails, social media posts, and ads.\n",
        "2. Content Creation: For regular branding, make images that stand out for online outlets.\n",
        "3. Graphic design: Make rough drafts or samples of projects so that you can make changes quickly based on what clients say.\n",
        "4. E-commerce: Use high-quality pictures and GIFs to improve product descriptions and marketing materials.\n",
        "5. Education: Make slideshows, visual tools, and teaching materials that are interesting to look at.\n",
        "6. Media and entertainment: Add created pictures and GIFs to your work.\n",
        "7. Brand Identity and Communication: Use highly appealing material to strengthen your brand's identity and message.\n",
        "8. Research and development: Look into creative AI systems for testing and making prototypes.\n",
        "\n",
        "\n",
        "# **Innovation**\n",
        "\n",
        "1. Uses powerful AI techniques to make pictures and GIFs of high quality.\n",
        "2. Gives people the power to direct the AI's creative process with prompts.\n",
        "3. Allows the creation of both GIFs and images, giving you more options when making material.\n",
        "4. Puts usefulness and accessibility first by making the design easy to understand.\n",
        "5. Utilizes Replicate AI's features and abilities to access more advanced tools and resources.\n",
        "6. Keeps changing to meet the needs and demands of users through iterative development and feedback mechanisms.\n",
        "\n",
        "# **Technical Proficiency:**\n",
        "\n",
        "1. AI Expertise: Shows a deep understanding of AI concepts, especially when it comes to generative models.\n",
        "2. Programming Skills: Proven ability to use programming languages such as Python and related tools such as TensorFlow or PyTorch.\n",
        "3. API Integration: Shows they know how to use APIs and services from outside sources.\n",
        "4. Handling and Processing Data: Shows they know how to handle and process large datasets efficiently.\n",
        "5. User Interface Design: Shows knowledge of UI design concepts, front-end programming tools, and frameworks.\n",
        "6. Optimization and Efficiency: Focuses on quick output times and efficient processing.\n",
        "7. Version Control and Documentation: Shows they know how to use version control tools and write comprehensive documentation.\n",
        "\n",
        "\n",
        "\n"
      ],
      "metadata": {
        "id": "LZX1oiB09M9C"
      }
    },
    {
      "cell_type": "markdown",
      "source": [
        "#**1.Install Replicate**:\n",
        "This code step installs the Replicate package via pip, enabling access to Replicate AI's features and capabilities for image and GIF generation."
      ],
      "metadata": {
        "id": "03xL0Alon2h6"
      }
    },
    {
      "cell_type": "code",
      "execution_count": null,
      "metadata": {
        "colab": {
          "base_uri": "https://localhost:8080/"
        },
        "id": "K-f4rzIDbk8n",
        "outputId": "b2408e49-91e8-4377-b398-a2622d60a913"
      },
      "outputs": [
        {
          "output_type": "stream",
          "name": "stdout",
          "text": [
            "Collecting replicate\n",
            "  Downloading replicate-0.25.1-py3-none-any.whl (39 kB)\n",
            "Collecting httpx<1,>=0.21.0 (from replicate)\n",
            "  Downloading httpx-0.27.0-py3-none-any.whl (75 kB)\n",
            "\u001b[2K     \u001b[90m━━━━━━━━━━━━━━━━━━━━━━━━━━━━━━━━━━━━━━━━\u001b[0m \u001b[32m75.6/75.6 kB\u001b[0m \u001b[31m3.3 MB/s\u001b[0m eta \u001b[36m0:00:00\u001b[0m\n",
            "\u001b[?25hRequirement already satisfied: packaging in /usr/local/lib/python3.10/dist-packages (from replicate) (24.0)\n",
            "Requirement already satisfied: pydantic>1.10.7 in /usr/local/lib/python3.10/dist-packages (from replicate) (2.6.4)\n",
            "Requirement already satisfied: typing-extensions>=4.5.0 in /usr/local/lib/python3.10/dist-packages (from replicate) (4.10.0)\n",
            "Requirement already satisfied: anyio in /usr/local/lib/python3.10/dist-packages (from httpx<1,>=0.21.0->replicate) (3.7.1)\n",
            "Requirement already satisfied: certifi in /usr/local/lib/python3.10/dist-packages (from httpx<1,>=0.21.0->replicate) (2024.2.2)\n",
            "Collecting httpcore==1.* (from httpx<1,>=0.21.0->replicate)\n",
            "  Downloading httpcore-1.0.5-py3-none-any.whl (77 kB)\n",
            "\u001b[2K     \u001b[90m━━━━━━━━━━━━━━━━━━━━━━━━━━━━━━━━━━━━━━━━\u001b[0m \u001b[32m77.9/77.9 kB\u001b[0m \u001b[31m4.1 MB/s\u001b[0m eta \u001b[36m0:00:00\u001b[0m\n",
            "\u001b[?25hRequirement already satisfied: idna in /usr/local/lib/python3.10/dist-packages (from httpx<1,>=0.21.0->replicate) (3.6)\n",
            "Requirement already satisfied: sniffio in /usr/local/lib/python3.10/dist-packages (from httpx<1,>=0.21.0->replicate) (1.3.1)\n",
            "Collecting h11<0.15,>=0.13 (from httpcore==1.*->httpx<1,>=0.21.0->replicate)\n",
            "  Downloading h11-0.14.0-py3-none-any.whl (58 kB)\n",
            "\u001b[2K     \u001b[90m━━━━━━━━━━━━━━━━━━━━━━━━━━━━━━━━━━━━━━━━\u001b[0m \u001b[32m58.3/58.3 kB\u001b[0m \u001b[31m5.3 MB/s\u001b[0m eta \u001b[36m0:00:00\u001b[0m\n",
            "\u001b[?25hRequirement already satisfied: annotated-types>=0.4.0 in /usr/local/lib/python3.10/dist-packages (from pydantic>1.10.7->replicate) (0.6.0)\n",
            "Requirement already satisfied: pydantic-core==2.16.3 in /usr/local/lib/python3.10/dist-packages (from pydantic>1.10.7->replicate) (2.16.3)\n",
            "Requirement already satisfied: exceptiongroup in /usr/local/lib/python3.10/dist-packages (from anyio->httpx<1,>=0.21.0->replicate) (1.2.0)\n",
            "Installing collected packages: h11, httpcore, httpx, replicate\n",
            "Successfully installed h11-0.14.0 httpcore-1.0.5 httpx-0.27.0 replicate-0.25.1\n"
          ]
        }
      ],
      "source": [
        "# @title Install Replicate\n",
        "!pip install replicate"
      ]
    },
    {
      "cell_type": "markdown",
      "source": [
        "# **2. Set Replicate API Token**:\n",
        "This code step sets the Replicate API token as an environment variable, allowing access to Replicate AI's features for image and GIF generation."
      ],
      "metadata": {
        "id": "sFTSpliVoGgA"
      }
    },
    {
      "cell_type": "code",
      "execution_count": null,
      "metadata": {
        "id": "cFmhr3PSf4G2"
      },
      "outputs": [],
      "source": [
        "API = \"r8_NQxrnq8YCYdJ3iP9tXjedGQ8T0nMxMC39Fvgt\"\n",
        "import os\n",
        "\n",
        "os.environ[\"REPLICATE_API_TOKEN\"] = API #find it here: https://replicate.com/signin?next=/account/api-tokens\n"
      ]
    },
    {
      "cell_type": "markdown",
      "source": [
        "# **3. Generate Image**:\n",
        "This code step utilizes the Replicate API to generate an image based on the specified prompt \"Brown haired dog is sitting on grass\", leveraging the stability-ai/stable-diffusion model."
      ],
      "metadata": {
        "id": "99b2KkrToOPY"
      }
    },
    {
      "cell_type": "code",
      "execution_count": null,
      "metadata": {
        "colab": {
          "base_uri": "https://localhost:8080/"
        },
        "id": "0zz83wA6cqSF",
        "outputId": "a7c37081-6289-449d-a8ca-05c7ce5677c5"
      },
      "outputs": [
        {
          "output_type": "execute_result",
          "data": {
            "text/plain": [
              "['https://replicate.delivery/pbxt/aYeTFPoTBEV4GqGJ2pBacQFiaQtnhfeo8P7tbHs5XlQyd8KlA/out-0.png']"
            ]
          },
          "metadata": {},
          "execution_count": 3
        }
      ],
      "source": [
        "# @title Generate Image\n",
        "prompt = \"Brown haired dog is sitting on grass\"\n",
        "import replicate\n",
        "\n",
        "output = replicate.run(\n",
        "  \"stability-ai/stable-diffusion:27b93a2413e7f36cd83da926f3656280b2931564ff050bf9575f1fdf9bcd7478\",\n",
        "  input={\"prompt\":prompt}\n",
        ")\n",
        "\n",
        "output"
      ]
    },
    {
      "cell_type": "markdown",
      "source": [
        "# **4. Display Generated Image**:\n",
        "This code step displays the generated image using the IPython.display.Image function, showcasing the result of the image generation process."
      ],
      "metadata": {
        "id": "0HNTesaHoSYo"
      }
    },
    {
      "cell_type": "code",
      "execution_count": null,
      "metadata": {
        "colab": {
          "base_uri": "https://localhost:8080/",
          "height": 534
        },
        "id": "hwXEISnemCLj",
        "outputId": "b8c24518-98b7-4d57-bdf5-ad0e66e74564"
      },
      "outputs": [
        {
          "output_type": "execute_result",
          "data": {
            "text/html": [
              "<img src=\"https://replicate.delivery/pbxt/aYeTFPoTBEV4GqGJ2pBacQFiaQtnhfeo8P7tbHs5XlQyd8KlA/out-0.png\"/>"
            ],
            "text/plain": [
              "<IPython.core.display.Image object>"
            ]
          },
          "metadata": {},
          "execution_count": 4
        }
      ],
      "source": [
        "\n",
        "from IPython.display import Image\n",
        "output_image = output\n",
        "Image(url=output_image[0])"
      ]
    },
    {
      "cell_type": "markdown",
      "source": [
        "# **5. Generate GIF/Animation**:\n",
        "This code step utilizes the Replicate API to generate a GIF or animation based on the specified prompts \"Brown haired dog is sitting \" and \"Brown haired dog gets up to start running\". The output is formatted as a GIF, with ping-pong looping enabled."
      ],
      "metadata": {
        "id": "tlvYwhh7oVq_"
      }
    },
    {
      "cell_type": "code",
      "execution_count": null,
      "metadata": {
        "colab": {
          "base_uri": "https://localhost:8080/"
        },
        "id": "Misa5E4QiWNZ",
        "outputId": "4d7e8305-3fa5-4eeb-c28a-92c37f52e6a7"
      },
      "outputs": [
        {
          "output_type": "execute_result",
          "data": {
            "text/plain": [
              "<generator object Prediction.output_iterator at 0x7a2d1585a7a0>"
            ]
          },
          "metadata": {},
          "execution_count": 5
        }
      ],
      "source": [
        "# @title Video/gif/animation/Generation\n",
        "import replicate\n",
        "\n",
        "output = replicate.run(\n",
        "    \"andreasjansson/stable-diffusion-animation:ca1f5e306e5721e19c473e0d094e6603f0456fe759c10715fcd6c1b79242d4a5\",\n",
        "    input={\n",
        "        \"prompt_start\": \"Brown haired dog is sitting on grass\",\n",
        "        \"prompt_end\": \"Brown haired dog gets up to start running\",\n",
        "        \"output_format\": \"gif\",\n",
        "        \"gif_ping_pong\": True\n",
        "    }\n",
        ")\n",
        "\n",
        "output\n"
      ]
    },
    {
      "cell_type": "markdown",
      "source": [
        "# **6. Output Information**:\n",
        "This code step prints information about the output generated by the Replicate API, providing details such as URLs and other metadata associated with the generated video or animation."
      ],
      "metadata": {
        "id": "kNNm0SY7oY1P"
      }
    },
    {
      "cell_type": "code",
      "execution_count": null,
      "metadata": {
        "colab": {
          "base_uri": "https://localhost:8080/"
        },
        "id": "BB0LZJTyjA7Z",
        "outputId": "6023cecc-eccc-4f69-8857-99ff0094fbe1"
      },
      "outputs": [
        {
          "output_type": "stream",
          "name": "stdout",
          "text": [
            "https://replicate.delivery/pbxt/jmcfMPUqEpXAYqBe7RedgHnwNk74UN4AH70hnTTfcyRoO5VKB/video.gif\n"
          ]
        }
      ],
      "source": [
        "# @title generate video\n",
        "for item in output:\n",
        "     #https://replicate.com/andreasjansson/stable-diffusion-animation/versions/ca1f5e306e5721e19c473e0d094e6603f0456fe759c10715fcd6c1b79242d4a5/api#output-schema\n",
        "    print(item)"
      ]
    },
    {
      "cell_type": "markdown",
      "source": [
        "# **7. Get Video URL**:\n",
        "This code step retrieves the URL of the generated video or animation from the output information obtained from the Replicate API, enabling access to the video within the Colab environment."
      ],
      "metadata": {
        "id": "w6fZwjtKoggI"
      }
    },
    {
      "cell_type": "code",
      "execution_count": null,
      "metadata": {
        "id": "fuPgsixhkxM4"
      },
      "outputs": [],
      "source": [
        "# @title get the video on colab\n",
        "gif_url= item[0:len(item)]"
      ]
    },
    {
      "cell_type": "markdown",
      "source": [
        "# **8. Display the Video**:\n",
        "This code step fetches the generated video or animation from the provided URL and displays it within the notebook using the IPython.display.Image function. Additionally, it saves the video locally as \"gif_output.gif\" and displays it using the PIL library."
      ],
      "metadata": {
        "id": "Hmz6QKmwUmw6"
      }
    },
    {
      "cell_type": "code",
      "execution_count": null,
      "metadata": {
        "colab": {
          "base_uri": "https://localhost:8080/",
          "height": 534
        },
        "id": "6VPPvsE3km93",
        "outputId": "020599e6-bdf7-4cee-9dbc-3871d93f2521"
      },
      "outputs": [
        {
          "output_type": "display_data",
          "data": {
            "text/html": [
              "<img src=\"https://replicate.delivery/pbxt/jmcfMPUqEpXAYqBe7RedgHnwNk74UN4AH70hnTTfcyRoO5VKB/video.gif\"/>"
            ],
            "text/plain": [
              "<IPython.core.display.Image object>"
            ]
          },
          "metadata": {}
        }
      ],
      "source": [
        "# @title Show the video\n",
        "import requests\n",
        "from IPython.display import display, Image\n",
        "from PIL import Image as PILImage\n",
        "from io import BytesIO\n",
        "response = requests.get(gif_url)\n",
        "if response.status_code == 200:\n",
        "    # Display the GIF in the notebook\n",
        "    display(Image(url=gif_url))\n",
        "\n",
        "    # Save the GIF in the Colab environment\n",
        "    with open(\"gif_output.gif\", \"wb\") as f:\n",
        "        f.write(response.content)\n",
        "\n",
        "    # Show a saved GIF using PIL\n",
        "    saved_gif = PILImage.open(\"gif_output.gif\")\n",
        "    saved_gif.show()\n",
        "else:\n",
        "    print(\"Failed to fetch GIF\")\n"
      ]
    },
    {
      "cell_type": "markdown",
      "source": [
        "\n",
        "\n",
        "---\n",
        "\n"
      ],
      "metadata": {
        "id": "ZcfQytHkCgB_"
      }
    },
    {
      "cell_type": "markdown",
      "source": [
        "# References\n",
        "\n",
        "* Replicate-API Tokens.https://replicate.com/account/api-tokens\n",
        "* The Python tutorial.https://docs.python.org/3/tutorial/index.html\n",
        "* Google Colaboratory. https://colab.research.google.com/\n",
        "* GitHub turna1/GenAI https://github.com/turna1/GenAI"
      ],
      "metadata": {
        "id": "_Lj16ky3-Wip"
      }
    },
    {
      "cell_type": "markdown",
      "source": [
        "***`THANK YOU`***\n",
        "\n",
        "\n",
        "---"
      ],
      "metadata": {
        "id": "LX6Dmm0EV0DT"
      }
    }
  ],
  "metadata": {
    "colab": {
      "provenance": [],
      "include_colab_link": true
    },
    "kernelspec": {
      "display_name": "Python 3",
      "name": "python3"
    },
    "language_info": {
      "name": "python"
    }
  },
  "nbformat": 4,
  "nbformat_minor": 0
}